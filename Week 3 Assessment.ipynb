{
    "nbformat_minor": 1,
    "cells": [
        {
            "source": "# My Jupyter Notebook on IBM Data Science Experience",
            "cell_type": "markdown",
            "metadata": {
                "collapsed": true
            }
        },
        {
            "source": "**Calvin Madeley**  \nLog analyst",
            "cell_type": "markdown",
            "metadata": {}
        },
        {
            "source": "*I am interested in data science because I think it will be a useful tool for my professional development*",
            "cell_type": "markdown",
            "metadata": {}
        },
        {
            "source": "### This code is designed to simulate a 6 sided dice being rolled",
            "cell_type": "markdown",
            "metadata": {}
        },
        {
            "source": "import random\nprint(\"You rolled a \" + str(random.randint(1,6)))",
            "cell_type": "code",
            "execution_count": 4,
            "outputs": [
                {
                    "output_type": "stream",
                    "name": "stdout",
                    "text": "You rolled a 5\n"
                }
            ],
            "metadata": {}
        },
        {
            "source": "`This markdown includes:`  \n- inline code block  \n- unordered list  \n- horizontal rule  \n- ~~strikethrough~~\n- an image\n- [A Link](https://www.youtube.com/watch?v=s8MDNFaGfT4)  \n![Its peanut butter jelly time](https://media.tenor.com/images/5580311ab435883dc48e05a7734701b0/tenor.gif \"Its peanut butter Jelly time\")\n---",
            "cell_type": "markdown",
            "metadata": {}
        }
    ],
    "nbformat": 4,
    "metadata": {
        "kernelspec": {
            "display_name": "Python 3.5",
            "name": "python3",
            "language": "python"
        },
        "language_info": {
            "mimetype": "text/x-python",
            "nbconvert_exporter": "python",
            "version": "3.5.5",
            "name": "python",
            "file_extension": ".py",
            "pygments_lexer": "ipython3",
            "codemirror_mode": {
                "version": 3,
                "name": "ipython"
            }
        }
    }
}